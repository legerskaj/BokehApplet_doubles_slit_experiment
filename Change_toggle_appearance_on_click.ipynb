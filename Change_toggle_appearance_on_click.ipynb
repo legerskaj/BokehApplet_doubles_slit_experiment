{
 "cells": [
  {
   "cell_type": "code",
   "execution_count": 1,
   "id": "d55ddda1",
   "metadata": {},
   "outputs": [],
   "source": [
    "import numpy as np\n",
    "\n",
    "from bokeh.layouts import column, row\n",
    "from bokeh.models import ColumnDataSource, CustomJS, Button, Toggle, CheckboxGroup\n",
    "from bokeh.plotting import figure, show"
   ]
  },
  {
   "cell_type": "code",
   "execution_count": 8,
   "id": "2ece679c",
   "metadata": {},
   "outputs": [],
   "source": [
    "source = ColumnDataSource(data=dict(x=[], y=[]))\n",
    "\n",
    "p = figure(\n",
    "    title=\"Add 1 particle on click or send 100 particles at once\",\n",
    "    tools=\"pan,wheel_zoom,box_zoom,reset\",         # (de)activate tools    \n",
    "    sizing_mode=\"stretch_width\", \n",
    "#    max_width=1000, \n",
    "    width=500,\n",
    "    height=500,\n",
    "    x_axis_label=\"x\",\n",
    "    y_axis_label=\"y\",\n",
    "    x_range=(0,1),\n",
    "    y_range=(0, 1),\n",
    ")\n",
    "\n",
    "p.circle('x', 'y', source=source, size=10, fill_color=\"red\")\n",
    "streamtoggle = Button(label=\"Send continuous stream\", button_type=\"success\")\n",
    "\n",
    "callback_stream = CustomJS(args=dict(source=source, streamtoggle=streamtoggle), code=\"\"\"\n",
    "\n",
    "    function sendparticle() {\n",
    "        source.data.x.push(Math.random());\n",
    "        source.data.y.push(Math.random());\n",
    "        source.change.emit();\n",
    "    }\n",
    "    \n",
    "    if (streamtoggle.button_type == \"success\") {\n",
    "        const interval = setInterval(sendparticle, 300);\n",
    "        sendparticle();\n",
    "        source.interval = interval;\n",
    "        streamtoggle.button_type = \"danger\";\n",
    "        streamtoggle.label = \"Stop stream\";\n",
    "        \n",
    "    } else {\n",
    "        clearInterval(source.interval);\n",
    "        streamtoggle.button_type = \"success\";\n",
    "        streamtoggle.label = \"Send continuous stream\";\n",
    "    }\n",
    "\"\"\")\n",
    "\n",
    "streamtoggle.js_on_event('button_click', callback_stream)\n",
    "\n",
    "show(column(p, streamtoggle))"
   ]
  },
  {
   "cell_type": "code",
   "execution_count": 7,
   "id": "84dbf966",
   "metadata": {},
   "outputs": [],
   "source": [
    "from bokeh.models import Button, CustomJS\n",
    "from bokeh.io import show\n",
    "\n",
    "toggle = Button(label=\"Foo\", button_type=\"success\")\n",
    "\n",
    "callback_change = CustomJS(args=dict(toggle=toggle), code=\"\"\"\n",
    "    if (toggle.button_type == \"success\") {\n",
    "        toggle.button_type = \"danger\";\n",
    "    } else {\n",
    "        toggle.button_type = \"success\";\n",
    "    }\n",
    "\"\"\")\n",
    "\n",
    "toggle.js_on_event('button_click', callback_change)\n",
    "show(toggle)"
   ]
  },
  {
   "cell_type": "code",
   "execution_count": 19,
   "id": "48c30f84",
   "metadata": {},
   "outputs": [],
   "source": []
  },
  {
   "cell_type": "code",
   "execution_count": 25,
   "id": "5d08ac26",
   "metadata": {},
   "outputs": [],
   "source": []
  },
  {
   "cell_type": "code",
   "execution_count": null,
   "id": "5ace760f",
   "metadata": {},
   "outputs": [],
   "source": []
  }
 ],
 "metadata": {
  "kernelspec": {
   "display_name": "Python 3 (ipykernel)",
   "language": "python",
   "name": "python3"
  },
  "language_info": {
   "codemirror_mode": {
    "name": "ipython",
    "version": 3
   },
   "file_extension": ".py",
   "mimetype": "text/x-python",
   "name": "python",
   "nbconvert_exporter": "python",
   "pygments_lexer": "ipython3",
   "version": "3.9.13"
  }
 },
 "nbformat": 4,
 "nbformat_minor": 5
}
